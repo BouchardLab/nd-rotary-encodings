{
 "cells": [
  {
   "cell_type": "code",
   "execution_count": 1,
   "id": "d11bf7c5",
   "metadata": {},
   "outputs": [],
   "source": [
    "import torch\n",
    "from nd_rotary_encodings import RoPEEncodingND\n",
    "\n",
    "# Architecture parameters\n",
    "position_dim = 3\n",
    "embed_dim = 128\n",
    "n_heads = 4\n",
    "\n",
    "# Query tensor parameters\n",
    "batch_size = 4\n",
    "seq_length = 16\n",
    "embed_dim = 128\n",
    "\n",
    "# Create a RoPE layer for 3D positions with embedding dimension of 128 and 4 heads\n",
    "rope = RoPEEncodingND(position_dim, embed_dim, n_heads)\n",
    "\n",
    "# Create query tensor and corresponding positions\n",
    "query = torch.randn(batch_size, seq_length, embed_dim)\n",
    "query_pos = torch.randn(batch_size, seq_length, position_dim)  # float positions supported\n",
    "\n",
    "rotated_query = rope(query, query_pos)\n",
    "\n",
    "assert not torch.allclose(query, rotated_query)"
   ]
  },
  {
   "cell_type": "code",
   "execution_count": 2,
   "id": "25119c9c",
   "metadata": {},
   "outputs": [],
   "source": [
    "# Create a key tensor for encoder-decoder attention usage\n",
    "key_seq_length = 32\n",
    "\n",
    "key = torch.randn(batch_size, key_seq_length, embed_dim)\n",
    "key_pos = torch.randn(batch_size, key_seq_length, position_dim)\n",
    "\n",
    "rotated_query_2, rotated_key = rope(query, query_pos, key, key_pos)\n",
    "\n",
    "assert torch.equal(rotated_query, rotated_query_2)\n",
    "assert not torch.allclose(key, rotated_key)"
   ]
  }
 ],
 "metadata": {
  "kernelspec": {
   "display_name": "psu",
   "language": "python",
   "name": "python3"
  },
  "language_info": {
   "codemirror_mode": {
    "name": "ipython",
    "version": 3
   },
   "file_extension": ".py",
   "mimetype": "text/x-python",
   "name": "python",
   "nbconvert_exporter": "python",
   "pygments_lexer": "ipython3",
   "version": "3.11.13"
  }
 },
 "nbformat": 4,
 "nbformat_minor": 5
}
